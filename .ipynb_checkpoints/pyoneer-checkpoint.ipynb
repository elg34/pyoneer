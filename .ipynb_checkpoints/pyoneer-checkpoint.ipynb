{
 "cells": [
  {
   "cell_type": "code",
   "execution_count": 5,
   "metadata": {},
   "outputs": [],
   "source": [
    "import tweepy\n",
    "import sys\n",
    "import jsonpickle\n",
    "import json\n",
    "import os\n",
    "\n",
    "with open (\"auth.txt\", \"r\") as f:\n",
    "    auth=f.readlines()\n",
    "auth = [i.rstrip() for i in auth]\n",
    "    \n",
    "auth = tweepy.AppAuthHandler(auth[0],auth[1])\n",
    "\n",
    "api = tweepy.API(auth, wait_on_rate_limit=True, wait_on_rate_limit_notify=True)"
   ]
  },
  {
   "cell_type": "code",
   "execution_count": 10,
   "metadata": {},
   "outputs": [],
   "source": [
    "def getTweets(query,save=True):\n",
    "    tweets = None\n",
    "    try:\n",
    "        tweets = api.search(q=query)\n",
    "        if save:\n",
    "            with open('_'.join(query)+'.json', 'w') as f:\n",
    "                for tweet in tweets:\n",
    "                    f.write(jsonpickle.encode(tweet._json, unpicklable=False) +'\\n')\n",
    "                print(\"Downloaded {0} tweets\".format(len(tweets)))\n",
    "    except tweepy.TweepError as e:\n",
    "        print(str(e))\n",
    "    if tweets:\n",
    "        return tweets"
   ]
  },
  {
   "cell_type": "code",
   "execution_count": 11,
   "metadata": {},
   "outputs": [],
   "source": [
    "test = getTweets(['kamoot'],save=False)"
   ]
  },
  {
   "cell_type": "code",
   "execution_count": null,
   "metadata": {},
   "outputs": [],
   "source": []
  }
 ],
 "metadata": {
  "kernelspec": {
   "display_name": "Python 3",
   "language": "python",
   "name": "python3"
  },
  "language_info": {
   "codemirror_mode": {
    "name": "ipython",
    "version": 3
   },
   "file_extension": ".py",
   "mimetype": "text/x-python",
   "name": "python",
   "nbconvert_exporter": "python",
   "pygments_lexer": "ipython3",
   "version": "3.6.5"
  }
 },
 "nbformat": 4,
 "nbformat_minor": 2
}
