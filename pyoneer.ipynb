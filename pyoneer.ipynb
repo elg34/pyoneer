{
 "cells": [
  {
   "cell_type": "markdown",
   "metadata": {},
   "source": [
    "## Imports and Twitter API"
   ]
  },
  {
   "cell_type": "code",
   "execution_count": null,
   "metadata": {},
   "outputs": [
    {
     "name": "stdout",
     "output_type": "stream",
     "text": [
      "showing info https://raw.githubusercontent.com/nltk/nltk_data/gh-pages/index.xml\n"
     ]
    }
   ],
   "source": [
    "import tweepy\n",
    "import sys\n",
    "import jsonpickle\n",
    "import json\n",
    "import os\n",
    "import nltk\n",
    "#nltk.download()\n",
    "\n",
    "with open (\"auth.txt\", \"r\") as f:\n",
    "    auth=f.readlines()\n",
    "auth = [i.rstrip() for i in auth]\n",
    "    \n",
    "auth = tweepy.AppAuthHandler(auth[0],auth[1])\n",
    "\n",
    "api = tweepy.API(auth, wait_on_rate_limit=True, wait_on_rate_limit_notify=True)"
   ]
  },
  {
   "cell_type": "markdown",
   "metadata": {},
   "source": [
    "## Utility functions"
   ]
  },
  {
   "cell_type": "code",
   "execution_count": 56,
   "metadata": {},
   "outputs": [],
   "source": [
    "def saveTweets(query,max_tweets):\n",
    "    with open('_'.join(query)+'.json', 'w') as f:\n",
    "        tweets = []\n",
    "        last_id = -1\n",
    "        while len(tweets) < max_tweets:\n",
    "            count = max_tweets - len(tweets)\n",
    "            try:\n",
    "                new_tweets = api.search(q=query, count=count, max_id=str(last_id - 1))\n",
    "                if not new_tweets:\n",
    "                    break\n",
    "                tweets.extend(new_tweets)\n",
    "                last_id = new_tweets[-1].id\n",
    "            except tweepy.TweepError as e:\n",
    "                print(str(e))\n",
    "                break\n",
    "        for tweet in tweets:\n",
    "            f.write(jsonpickle.encode(tweet._json, unpicklable=False) +'\\n')\n",
    "        return True\n",
    "\n",
    "def loadTweets(query):\n",
    "    with open('_'.join(query)+'.json', 'r') as f:\n",
    "        data = f.readlines()\n",
    "        return [json.loads(i) for i in data]"
   ]
  },
  {
   "cell_type": "markdown",
   "metadata": {},
   "source": [
    "## Get tweets"
   ]
  },
  {
   "cell_type": "code",
   "execution_count": 62,
   "metadata": {},
   "outputs": [],
   "source": [
    "query = ['#london']"
   ]
  },
  {
   "cell_type": "code",
   "execution_count": 67,
   "metadata": {},
   "outputs": [
    {
     "data": {
      "text/plain": [
       "True"
      ]
     },
     "execution_count": 67,
     "metadata": {},
     "output_type": "execute_result"
    }
   ],
   "source": [
    "saveTweets(query,2000)"
   ]
  },
  {
   "cell_type": "code",
   "execution_count": 68,
   "metadata": {},
   "outputs": [],
   "source": [
    "tweets = loadTweets(query)"
   ]
  },
  {
   "cell_type": "markdown",
   "metadata": {},
   "source": [
    "## Word frequencies"
   ]
  },
  {
   "cell_type": "code",
   "execution_count": 80,
   "metadata": {},
   "outputs": [],
   "source": [
    "text = ''.join([i['text'] for i in tweets]).split(' ')\n",
    "sw = nltk.corpus.stopwords.words('english')\n",
    "sw.append('RT')\n",
    "text = [w for w in text if w not in sw]"
   ]
  },
  {
   "cell_type": "code",
   "execution_count": null,
   "metadata": {},
   "outputs": [],
   "source": [
    "dist = FreqDist(text)\n",
    "dist.most_common(50)\n"
   ]
  }
 ],
 "metadata": {
  "kernelspec": {
   "display_name": "Python 3",
   "language": "python",
   "name": "python3"
  },
  "language_info": {
   "codemirror_mode": {
    "name": "ipython",
    "version": 3
   },
   "file_extension": ".py",
   "mimetype": "text/x-python",
   "name": "python",
   "nbconvert_exporter": "python",
   "pygments_lexer": "ipython3",
   "version": "3.6.5"
  }
 },
 "nbformat": 4,
 "nbformat_minor": 2
}
