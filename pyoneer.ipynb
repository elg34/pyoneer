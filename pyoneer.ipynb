{
 "cells": [
  {
   "cell_type": "markdown",
   "metadata": {},
   "source": [
    "## Imports and Twitter API"
   ]
  },
  {
   "cell_type": "code",
   "execution_count": 83,
   "metadata": {},
   "outputs": [
    {
     "name": "stdout",
     "output_type": "stream",
     "text": [
      "showing info https://raw.githubusercontent.com/nltk/nltk_data/gh-pages/index.xml\n"
     ]
    }
   ],
   "source": [
    "import tweepy\n",
    "import sys\n",
    "import jsonpickle\n",
    "import json\n",
    "import os\n",
    "import nltk\n",
    "#nltk.download()"
   ]
  },
  {
   "cell_type": "code",
   "execution_count": null,
   "metadata": {},
   "outputs": [],
   "source": [
    "with open (\"auth.txt\", \"r\") as f:\n",
    "    cred=f.readlines()\n",
    "cred = [i.rstrip() for i in cred]\n",
    "    \n",
    "auth = tweepy.AppAuthHandler(cred[0],cred[1])\n",
    "\n",
    "api = tweepy.API(auth, wait_on_rate_limit=True, wait_on_rate_limit_notify=True)"
   ]
  },
  {
   "cell_type": "markdown",
   "metadata": {},
   "source": [
    "## Utility functions"
   ]
  },
  {
   "cell_type": "code",
   "execution_count": 104,
   "metadata": {},
   "outputs": [],
   "source": [
    "def saveTweets(query,max_tweets):\n",
    "    with open('_'.join(query)+'.json', 'w') as f:\n",
    "        tweets = []\n",
    "        last_id = -1\n",
    "        while len(tweets) < max_tweets:\n",
    "            count = max_tweets - len(tweets)\n",
    "            try:\n",
    "                new_tweets = api.search(q=query, count=count, max_id=str(last_id - 1),tweet_mode='extended')\n",
    "                if not new_tweets:\n",
    "                    break\n",
    "                tweets.extend(new_tweets)\n",
    "                last_id = new_tweets[-1].id\n",
    "            except tweepy.TweepError as e:\n",
    "                print(str(e))\n",
    "                break\n",
    "        for tweet in tweets:\n",
    "            f.write(jsonpickle.encode(tweet._json, unpicklable=False) +'\\n')\n",
    "        return True\n",
    "\n",
    "def loadTweets(query):\n",
    "    with open('_'.join(query)+'.json', 'r') as f:\n",
    "        data = f.readlines()\n",
    "        return [json.loads(i) for i in data]"
   ]
  },
  {
   "cell_type": "markdown",
   "metadata": {},
   "source": [
    "## Get tweets"
   ]
  },
  {
   "cell_type": "code",
   "execution_count": 118,
   "metadata": {},
   "outputs": [],
   "source": [
    "query = ['#kamoot','#London','london','London']"
   ]
  },
  {
   "cell_type": "code",
   "execution_count": 119,
   "metadata": {},
   "outputs": [
    {
     "data": {
      "text/plain": [
       "True"
      ]
     },
     "execution_count": 119,
     "metadata": {},
     "output_type": "execute_result"
    }
   ],
   "source": [
    "saveTweets(query,5000)"
   ]
  },
  {
   "cell_type": "code",
   "execution_count": 120,
   "metadata": {},
   "outputs": [],
   "source": [
    "tweets = loadTweets(query)\n",
    "len(tweets)"
   ]
  },
  {
   "cell_type": "markdown",
   "metadata": {},
   "source": [
    "## Word frequencies"
   ]
  },
  {
   "cell_type": "code",
   "execution_count": 122,
   "metadata": {},
   "outputs": [],
   "source": [
    "rawtext = ''.join([i['full_text'] for i in tweets]).split()\n",
    "sw = nltk.corpus.stopwords.words('english')\n",
    "sw.extend(['RT','&amp;'])\n",
    "sw.extend(query)\n",
    "text = [w for w in rawtext if w not in sw and len(w)>2]"
   ]
  },
  {
   "cell_type": "code",
   "execution_count": 139,
   "metadata": {},
   "outputs": [],
   "source": [
    "dist = nltk.FreqDist(text)\n",
    "top = dist.most_common(20)"
   ]
  },
  {
   "cell_type": "code",
   "execution_count": 140,
   "metadata": {},
   "outputs": [
    {
     "data": {
      "image/png": "[encoded data removed]",
      "text/plain": [
       "<Figure size 432x288 with 1 Axes>"
      ]
     },
     "metadata": {},
     "output_type": "display_data"
    }
   ],
   "source": [
    "import matplotlib.pyplot as plt\n",
    "import seaborn as sns\n",
    "sns.set_style(\"darkgrid\")\n",
    "%matplotlib inline\n",
    "\n",
    "x = [i[0] for i in top]\n",
    "y = [i[1] for i in top]\n",
    "\n",
    "plt.plot(x, y)\n",
    "plt.xticks(rotation=90);"
   ]
  }
 ],
 "metadata": {
  "kernelspec": {
   "display_name": "Python 3",
   "language": "python",
   "name": "python3"
  },
  "language_info": {
   "codemirror_mode": {
    "name": "ipython",
    "version": 3
   },
   "file_extension": ".py",
   "mimetype": "text/x-python",
   "name": "python",
   "nbconvert_exporter": "python",
   "pygments_lexer": "ipython3",
   "version": "3.6.5"
  }
 },
 "nbformat": 4,
 "nbformat_minor": 2
}
